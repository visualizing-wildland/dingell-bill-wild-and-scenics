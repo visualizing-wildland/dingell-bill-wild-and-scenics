{
 "cells": [
  {
   "cell_type": "code",
   "execution_count": 34,
   "metadata": {},
   "outputs": [],
   "source": [
    "import geopandas as gpd\n",
    "import pandas as pd\n",
    "from shapely.geometry import LineString\n",
    "import numpy as np"
   ]
  },
  {
   "cell_type": "markdown",
   "metadata": {},
   "source": [
    "# Wild and Scenic Designations – New England "
   ]
  },
  {
   "cell_type": "code",
   "execution_count": 45,
   "metadata": {},
   "outputs": [],
   "source": [
    "# manually curated list from the legislation\n",
    "points = pd.read_csv(\"./wspolys/Dingell Bill WSRs - Sheet1.csv\")"
   ]
  },
  {
   "cell_type": "code",
   "execution_count": 46,
   "metadata": {},
   "outputs": [],
   "source": [
    "# create lines from start/end points. Have to split \"Lat, Lon\" strings into [float(Lon), float(Lat)] for start + end\n",
    "lines = [LineString([np.array(s[::-1]).astype('float'),np.array(e[::-1]).astype('float')])\n",
    "         for s, e in zip(points.Start.str.split(','), points.End.str.split(','))]"
   ]
  },
  {
   "cell_type": "code",
   "execution_count": 47,
   "metadata": {},
   "outputs": [],
   "source": [
    "river_protos = gpd.GeoDataFrame(points, geometry = lines)\n",
    "river_protos.to_file(\"./wspolys/northeast-lines.geojson\", driver=\"GeoJSON\")\n",
    "river_protos.crs = {'init' : 'epsg:4326'}"
   ]
  },
  {
   "cell_type": "markdown",
   "metadata": {},
   "source": [
    "\n",
    "which nhds?"
   ]
  },
  {
   "cell_type": "code",
   "execution_count": 6,
   "metadata": {},
   "outputs": [
    {
     "name": "stderr",
     "output_type": "stream",
     "text": [
      "/Users/tony/miniconda3/envs/wildscenic/lib/python3.5/site-packages/geopandas/tools/sjoin.py:44: UserWarning: CRS of frames being joined does not match!\n",
      "  warn('CRS of frames being joined does not match!')\n"
     ]
    },
    {
     "data": {
      "text/plain": [
       "array(['0108', '0109', '0110', '0107'], dtype=object)"
      ]
     },
     "execution_count": 6,
     "metadata": {},
     "output_type": "execute_result"
    }
   ],
   "source": [
    "HUC4_subregions = gpd.read_file(\"NHD/WBD_01_Shape/Shape/WBDHU4.shp\")\n",
    "river_polys_huc4 = gpd.sjoin(river_protos, HUC4_subregions, how='left', op='intersects')\n",
    "river_polys_huc4.HUC4.unique()"
   ]
  },
  {
   "cell_type": "code",
   "execution_count": 7,
   "metadata": {},
   "outputs": [
    {
     "name": "stdout",
     "output_type": "stream",
     "text": [
      "\u001b[34m0107_Shape\u001b[m\u001b[m               \u001b[34m1807_Shape\u001b[m\u001b[m               \u001b[34mWBD18_HU2_Shape\u001b[m\u001b[m\r\n",
      "\u001b[34m0108_Shape\u001b[m\u001b[m               \u001b[34m1809_Shape\u001b[m\u001b[m               WBD_01_HU2_Shape.zip\r\n",
      "\u001b[34m0109_Shape\u001b[m\u001b[m               \u001b[34m1810_Shape\u001b[m\u001b[m               \u001b[34mWBD_01_Shape\u001b[m\u001b[m\r\n",
      "\u001b[34m0110_Shape\u001b[m\u001b[m               NHD_H_0107_HU4_Shape.zip\r\n",
      "\u001b[34m1806_Shape\u001b[m\u001b[m               NHD_H_0108_HU4_Shape.zip\r\n"
     ]
    }
   ],
   "source": [
    "# NHD\n",
    "! ls NHD/"
   ]
  },
  {
   "cell_type": "code",
   "execution_count": 30,
   "metadata": {},
   "outputs": [],
   "source": [
    "nhd_0107 = gpd.read_file(\"NHD/0107_Shape/Shape/NHDFlowline.shp\")\n",
    "nhd_0108 = gpd.read_file(\"NHD/0108_Shape/Shape/NHDFlowline.shp\")\n",
    "nhd_0109 = gpd.read_file(\"NHD/0109_Shape/Shape/NHDFlowline.shp\")\n",
    "nhd_0110 = gpd.read_file(\"NHD/0110_Shape/Shape/NHDFlowline.shp\")\n",
    "\n",
    "\n",
    "nhd = gpd.GeoDataFrame(pd.concat([nhd_0107, nhd_0108, nhd_0109, nhd_0110]), geometry='geometry')\n",
    "nhd.crs = nhd_0109.crs"
   ]
  },
  {
   "cell_type": "code",
   "execution_count": null,
   "metadata": {},
   "outputs": [],
   "source": []
  },
  {
   "cell_type": "markdown",
   "metadata": {},
   "source": [
    "**join based on name, then crop based on buffered line envelope**"
   ]
  },
  {
   "cell_type": "code",
   "execution_count": 52,
   "metadata": {},
   "outputs": [],
   "source": [
    "# group NHD flowlines by name.\n",
    "nhd_dissolve = nhd.dissolve(by=\"GNIS_Name\", aggfunc='sum').reset_index()"
   ]
  },
  {
   "cell_type": "code",
   "execution_count": 48,
   "metadata": {},
   "outputs": [],
   "source": [
    "merged = river_protos.merge(nhd_dissolve, left_on = 'River Name', right_on='GNIS_Name')"
   ]
  },
  {
   "cell_type": "code",
   "execution_count": 49,
   "metadata": {},
   "outputs": [],
   "source": [
    "final_geoms = [ i.geometry_y.intersection(i.geometry_x.envelope.buffer(0.1))for _, i in merged.iterrows()]"
   ]
  },
  {
   "cell_type": "code",
   "execution_count": 50,
   "metadata": {},
   "outputs": [],
   "source": [
    "finals = gpd.GeoDataFrame(merged, geometry = final_geoms, crs = nhd_dissolve.crs).drop(columns=['geometry_x', 'geometry_y'])\n",
    "finals.to_file(\"northeast-v3.geojson\", driver='GeoJSON')"
   ]
  },
  {
   "cell_type": "code",
   "execution_count": 33,
   "metadata": {},
   "outputs": [],
   "source": [
    "gpd.GeoDataFrame(geometry=[i.envelope for i in merged.geometry_x], crs=nhd.crs).to_file(\"envelopes.geojson\", driver='GeoJSON')"
   ]
  },
  {
   "cell_type": "code",
   "execution_count": 37,
   "metadata": {},
   "outputs": [],
   "source": [
    "nhd_dissolve.to_file(\"nhd_all\")"
   ]
  },
  {
   "cell_type": "code",
   "execution_count": null,
   "metadata": {},
   "outputs": [],
   "source": []
  }
 ],
 "metadata": {
  "kernelspec": {
   "display_name": "Python [conda env:wildscenic]",
   "language": "python",
   "name": "conda-env-wildscenic-py"
  },
  "language_info": {
   "codemirror_mode": {
    "name": "ipython",
    "version": 3
   },
   "file_extension": ".py",
   "mimetype": "text/x-python",
   "name": "python",
   "nbconvert_exporter": "python",
   "pygments_lexer": "ipython3",
   "version": "3.5.6"
  }
 },
 "nbformat": 4,
 "nbformat_minor": 2
}
