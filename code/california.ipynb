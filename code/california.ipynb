{
 "cells": [
  {
   "cell_type": "code",
   "execution_count": 2,
   "metadata": {},
   "outputs": [],
   "source": [
    "import geopandas as gpd\n",
    "import pandas as pd\n",
    "from shapely.geometry import Polygon, LineString, mapping, box, multilinestring\n",
    "\n",
    "\n",
    "%matplotlib inline"
   ]
  },
  {
   "cell_type": "markdown",
   "metadata": {},
   "source": [
    "# Wild and Scenic Designations – CA\n",
    "\n"
   ]
  },
  {
   "cell_type": "code",
   "execution_count": null,
   "metadata": {},
   "outputs": [],
   "source": [
    "# Data file of CA polygons. \n",
    "ca_polys = gpd.read_file(\"wspolys/CaliforniaDesertProtectionAct_WSRs/\")\n",
    "ca_polys = ca_polys.to_crs(crs = nhd_1806.crs)"
   ]
  },
  {
   "cell_type": "markdown",
   "metadata": {},
   "source": [
    "**Which NHD do we need?**"
   ]
  },
  {
   "cell_type": "code",
   "execution_count": 514,
   "metadata": {},
   "outputs": [],
   "source": [
    "HUC4_subregions = gpd.read_file(\"NHD/WBD18_HU2_Shape/WBDHU4.shp\") # NHD HUC4 boundaries"
   ]
  },
  {
   "cell_type": "code",
   "execution_count": null,
   "metadata": {},
   "outputs": [],
   "source": [
    "# assign HUC4 codes to polygons\n",
    "ca_polys_huc4 = gpd.sjoin(ca_polys, HUC4_subregions, how='left', op='intersects')"
   ]
  },
  {
   "cell_type": "code",
   "execution_count": 517,
   "metadata": {},
   "outputs": [
    {
     "data": {
      "text/plain": [
       "array(['1807', '1810', nan, '1809', '1806'], dtype=object)"
      ]
     },
     "execution_count": 517,
     "metadata": {},
     "output_type": "execute_result"
    }
   ],
   "source": [
    "ca_polys_huc4.HUC4.unique()"
   ]
  },
  {
   "cell_type": "code",
   "execution_count": 518,
   "metadata": {},
   "outputs": [
    {
     "name": "stdout",
     "output_type": "stream",
     "text": [
      "\u001b[34m1806_Shape\u001b[m\u001b[m           \u001b[34m1809_Shape\u001b[m\u001b[m           \u001b[34mWBD18_HU2_Shape\u001b[m\u001b[m\r\n",
      "\u001b[34m1807_Shape\u001b[m\u001b[m           \u001b[34m1810_Shape\u001b[m\u001b[m           WBD_18_HU2_Shape.zip\r\n"
     ]
    }
   ],
   "source": [
    "!ls NHD/"
   ]
  },
  {
   "cell_type": "code",
   "execution_count": 520,
   "metadata": {},
   "outputs": [],
   "source": [
    "# load corresponding NHD flowlines for HUC4 code. \n",
    "\n",
    "nhd_1806 = gpd.read_file('NHD/1806_Shape/NHDFlowline.shp')\n",
    "\n",
    "nhd_1807 = gpd.read_file('NHD/1807_Shape/NHDFlowline.shp')\n",
    "\n",
    "nhd_1809 = gpd.read_file('NHD/1809_Shape/NHDFlowline.shp')\n",
    "\n",
    "nhd_1810 = gpd.read_file('NHD/1810_Shape/NHDFlowline.shp')\n",
    "\n",
    "# nhd is NSD83, need to convert\n",
    "ca_polys = ca_polys.to_crs(crs = nhd_1806.crs)"
   ]
  },
  {
   "cell_type": "code",
   "execution_count": 521,
   "metadata": {},
   "outputs": [],
   "source": [
    "# get intersecting polygons \n",
    "\n",
    "ca_polys_1807 = gpd.sjoin(nhd_1807, ca_polys, how='left', op='intersects')\n",
    "ca_polys_1806 = gpd.sjoin(nhd_1806, ca_polys, how='left', op='intersects')\n",
    "ca_polys_1809 = gpd.sjoin(nhd_1809, ca_polys, how='left', op='intersects')\n",
    "ca_polys_1810 = gpd.sjoin(nhd_1810, ca_polys, how='left', op='intersects')\n"
   ]
  },
  {
   "cell_type": "code",
   "execution_count": 522,
   "metadata": {},
   "outputs": [],
   "source": [
    "# filter on those with matches \n",
    "\n",
    "ca_polys_1807 = ca_polys_1807[ca_polys_1807.index_right.notnull()]\n",
    "ca_polys_1806 = ca_polys_1806[ca_polys_1806.index_right.notnull()]\n",
    "ca_polys_1809 = ca_polys_1809[ca_polys_1809.index_right.notnull()]\n",
    "ca_polys_1810 = ca_polys_1810[ca_polys_1810.index_right.notnull()]"
   ]
  },
  {
   "cell_type": "code",
   "execution_count": 523,
   "metadata": {},
   "outputs": [],
   "source": [
    "# merge all results. Each NHD polygon has a CA river designation polygon assigned to it, or none. \n",
    "\n",
    "all_06_07 = gpd.GeoDataFrame(pd.concat([ca_polys_1806, ca_polys_1807, ca_polys_1809, ca_polys_1810]), geometry = 'geometry')\n",
    "all_06_07 = all_06_07[all_06_07.GNIS_Name.notnull()]"
   ]
  },
  {
   "cell_type": "code",
   "execution_count": 524,
   "metadata": {
    "scrolled": false
   },
   "outputs": [],
   "source": [
    "# group the polygons by ca-polygon River name and designation status\n",
    "\n",
    "groups = all_06_07.groupby(['River', \"Status\"]).apply(lambda g: g[g.GNIS_Name.str.contains(g.name[0])])"
   ]
  },
  {
   "cell_type": "code",
   "execution_count": 527,
   "metadata": {
    "scrolled": false
   },
   "outputs": [],
   "source": [
    "# we had an issue with non-protected but intersectin tributaries. \n",
    "# We remove those flowlines which intersect with the designation boundary , by river name \n",
    "groups = all_06_07.groupby(['River', 'Status']).apply(lambda g: g[~g.intersects(ca_polys[ca_polys.River == g.name[0]].\n",
    "                                                                                         cascaded_union.\n",
    "                                                                                         boundary)])"
   ]
  },
  {
   "cell_type": "code",
   "execution_count": 528,
   "metadata": {},
   "outputs": [],
   "source": [
    "groups = groups.drop(columns=['River', 'Status']).reset_index().dissolve(by=['River', 'Status'])\n",
    "geoms = groups.geometry.values\n",
    "# convert to multilinestrings for GeoJSON output.\n",
    "geoms = [multilinestring.MultiLineString([g]) if g.type == \"LineString\" else g for g in geoms]"
   ]
  },
  {
   "cell_type": "code",
   "execution_count": 529,
   "metadata": {},
   "outputs": [],
   "source": [
    "groups.geometry = geoms"
   ]
  },
  {
   "cell_type": "code",
   "execution_count": 539,
   "metadata": {},
   "outputs": [],
   "source": [
    "groups = groups.reset_index()\n",
    "groups.to_file(\"merged-all.geojson\", driver='GeoJSON')\n"
   ]
  },
  {
   "cell_type": "code",
   "execution_count": 475,
   "metadata": {},
   "outputs": [],
   "source": [
    "groups = all_06_07.groupby(['River', 'Status'])\n",
    "groups.geometry = all_boundary_geoms"
   ]
  },
  {
   "cell_type": "code",
   "execution_count": 541,
   "metadata": {},
   "outputs": [
    {
     "data": {
      "text/plain": [
       "46"
      ]
     },
     "execution_count": 541,
     "metadata": {},
     "output_type": "execute_result"
    }
   ],
   "source": [
    "len(ca_polys.River.unique())"
   ]
  },
  {
   "cell_type": "code",
   "execution_count": 544,
   "metadata": {},
   "outputs": [
    {
     "data": {
      "text/html": [
       "<div>\n",
       "<style scoped>\n",
       "    .dataframe tbody tr th:only-of-type {\n",
       "        vertical-align: middle;\n",
       "    }\n",
       "\n",
       "    .dataframe tbody tr th {\n",
       "        vertical-align: top;\n",
       "    }\n",
       "\n",
       "    .dataframe thead th {\n",
       "        text-align: right;\n",
       "    }\n",
       "</style>\n",
       "<table border=\"1\" class=\"dataframe\">\n",
       "  <thead>\n",
       "    <tr style=\"text-align: right;\">\n",
       "      <th></th>\n",
       "      <th>Status</th>\n",
       "      <th>River</th>\n",
       "      <th>Dedicated</th>\n",
       "      <th>Shape_Leng_left</th>\n",
       "      <th>Shape_Area_left</th>\n",
       "      <th>geometry</th>\n",
       "      <th>index_right</th>\n",
       "      <th>OBJECTID</th>\n",
       "      <th>TNMID</th>\n",
       "      <th>MetaSource</th>\n",
       "      <th>...</th>\n",
       "      <th>SourceFeat</th>\n",
       "      <th>LoadDate</th>\n",
       "      <th>AreaSqKm</th>\n",
       "      <th>AreaAcres</th>\n",
       "      <th>GNIS_ID</th>\n",
       "      <th>Name</th>\n",
       "      <th>States</th>\n",
       "      <th>HUC4</th>\n",
       "      <th>Shape_Leng_right</th>\n",
       "      <th>Shape_Area_right</th>\n",
       "    </tr>\n",
       "  </thead>\n",
       "  <tbody>\n",
       "    <tr>\n",
       "      <th>13</th>\n",
       "      <td>Wild</td>\n",
       "      <td>Cottonwood Creek</td>\n",
       "      <td>None</td>\n",
       "      <td>57434.707225</td>\n",
       "      <td>1.412804e+07</td>\n",
       "      <td>POLYGON ((-118.2110044331431 37.56933608262781...</td>\n",
       "      <td>NaN</td>\n",
       "      <td>NaN</td>\n",
       "      <td>NaN</td>\n",
       "      <td>NaN</td>\n",
       "      <td>...</td>\n",
       "      <td>NaN</td>\n",
       "      <td>NaN</td>\n",
       "      <td>NaN</td>\n",
       "      <td>NaN</td>\n",
       "      <td>NaN</td>\n",
       "      <td>NaN</td>\n",
       "      <td>NaN</td>\n",
       "      <td>NaN</td>\n",
       "      <td>NaN</td>\n",
       "      <td>NaN</td>\n",
       "    </tr>\n",
       "    <tr>\n",
       "      <th>14</th>\n",
       "      <td>Scenic</td>\n",
       "      <td>Cottonwood Creek</td>\n",
       "      <td>None</td>\n",
       "      <td>11920.160763</td>\n",
       "      <td>2.622635e+06</td>\n",
       "      <td>POLYGON ((-117.9949420950872 37.45621250339676...</td>\n",
       "      <td>NaN</td>\n",
       "      <td>NaN</td>\n",
       "      <td>NaN</td>\n",
       "      <td>NaN</td>\n",
       "      <td>...</td>\n",
       "      <td>NaN</td>\n",
       "      <td>NaN</td>\n",
       "      <td>NaN</td>\n",
       "      <td>NaN</td>\n",
       "      <td>NaN</td>\n",
       "      <td>NaN</td>\n",
       "      <td>NaN</td>\n",
       "      <td>NaN</td>\n",
       "      <td>NaN</td>\n",
       "      <td>NaN</td>\n",
       "    </tr>\n",
       "  </tbody>\n",
       "</table>\n",
       "<p>2 rows × 22 columns</p>\n",
       "</div>"
      ],
      "text/plain": [
       "    Status             River Dedicated  Shape_Leng_left  Shape_Area_left  \\\n",
       "13    Wild  Cottonwood Creek      None     57434.707225     1.412804e+07   \n",
       "14  Scenic  Cottonwood Creek      None     11920.160763     2.622635e+06   \n",
       "\n",
       "                                             geometry  index_right  OBJECTID  \\\n",
       "13  POLYGON ((-118.2110044331431 37.56933608262781...          NaN       NaN   \n",
       "14  POLYGON ((-117.9949420950872 37.45621250339676...          NaN       NaN   \n",
       "\n",
       "   TNMID MetaSource  ... SourceFeat LoadDate AreaSqKm AreaAcres  GNIS_ID  \\\n",
       "13   NaN        NaN  ...        NaN      NaN      NaN       NaN      NaN   \n",
       "14   NaN        NaN  ...        NaN      NaN      NaN       NaN      NaN   \n",
       "\n",
       "    Name  States HUC4 Shape_Leng_right Shape_Area_right  \n",
       "13   NaN     NaN  NaN              NaN              NaN  \n",
       "14   NaN     NaN  NaN              NaN              NaN  \n",
       "\n",
       "[2 rows x 22 columns]"
      ]
     },
     "execution_count": 544,
     "metadata": {},
     "output_type": "execute_result"
    }
   ],
   "source": [
    "ca_polys_huc4[ca_polys_huc4.HUC4.isnull()]"
   ]
  },
  {
   "cell_type": "code",
   "execution_count": null,
   "metadata": {},
   "outputs": [],
   "source": []
  }
 ],
 "metadata": {
  "kernelspec": {
   "display_name": "Python [conda env:wildscenic]",
   "language": "python",
   "name": "conda-env-wildscenic-py"
  },
  "language_info": {
   "codemirror_mode": {
    "name": "ipython",
    "version": 3
   },
   "file_extension": ".py",
   "mimetype": "text/x-python",
   "name": "python",
   "nbconvert_exporter": "python",
   "pygments_lexer": "ipython3",
   "version": "3.5.6"
  }
 },
 "nbformat": 4,
 "nbformat_minor": 2
}
